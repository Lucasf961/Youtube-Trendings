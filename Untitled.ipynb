{
 "cells": [
  {
   "cell_type": "code",
   "execution_count": 1,
   "metadata": {},
   "outputs": [],
   "source": [
    "def request_api(id_category = None, region_code = 'br'):\n",
    "    from googleapiclient.discovery import build\n",
    "    from datetime import date\n",
    "    from pandas import DataFrame\n",
    "    import numpy as np\n",
    "    import json\n",
    "\n",
    "    with open('key.json', 'r') as file:\n",
    "        data = file.read()\n",
    "\n",
    "    dictionary = json.loads(data)\n",
    "    value = list(dictionary.values())\n",
    "\n",
    "    key = value\n",
    "    service_name = 'youtube'\n",
    "    api_version = 'v3'\n",
    "\n",
    "    youtube = build(serviceName = service_name, version = api_version, developerKey = key)\n",
    "    request = youtube.videos().list(part = ['snippet','statistics'], videoCategoryId = id_category, maxResults=50, chart = 'mostPopular', regionCode = region_code)\n",
    "    response = request.execute()\n",
    "    \n",
    "    titulo = []\n",
    "    n_views = []\n",
    "    n_likes = []\n",
    "    nome_canal = []\n",
    "    id_categoria = []\n",
    "    tags = []\n",
    "\n",
    "    for i in range(0, len(response['items'])):\n",
    "        titulo.append(response['items'][i]['snippet']['title'])\n",
    "        nome_canal.append(response['items'][i]['snippet']['channelTitle'])\n",
    "        \n",
    "        try:\n",
    "            tags.append(response['items'][i]['snippet']['tags'])\n",
    "        except:\n",
    "            tags.append(np.nan)\n",
    "            \n",
    "        try:\n",
    "            n_views.append(response['items'][i]['statistics']['viewCount'])\n",
    "        except:\n",
    "            n_views.append(np.nan)\n",
    "            \n",
    "        try:\n",
    "            n_likes.append(response['items'][i]['statistics']['likeCount'])\n",
    "        except:\n",
    "            n_likes.append(np.nan)\n",
    "        \n",
    "        try:\n",
    "            id_categoria.append(response['items'][i]['snippet']['categoryId'])\n",
    "        except:\n",
    "            id_categoria.append(np.nan)\n",
    "            \n",
    "    ranking = []\n",
    "    for i in list(range(1,len(titulo) + 1)):\n",
    "        ranking.append(\"#\"+str(i))\n",
    "    \n",
    "    data = {'ranking': ranking,\n",
    "            'titulo':titulo,\n",
    "            'nome_canal':nome_canal,\n",
    "            'id_categoria':id_categoria,\n",
    "            'n_views':n_views,\n",
    "            'n_likes':n_likes,\n",
    "            'tags':tags}\n",
    "    \n",
    "    api = DataFrame(data = data)\n",
    "    return api"
   ]
  },
  {
   "cell_type": "code",
   "execution_count": 6,
   "metadata": {},
   "outputs": [],
   "source": [
    "yt = request_api(id_category = None, region_code = 'br')"
   ]
  },
  {
   "cell_type": "code",
   "execution_count": 7,
   "metadata": {},
   "outputs": [],
   "source": [
    "import pandas as pd; pd.options.mode.chained_assignment = None"
   ]
  },
  {
   "cell_type": "code",
   "execution_count": 8,
   "metadata": {},
   "outputs": [],
   "source": [
    "def plot_table(df):\n",
    "    videos = df[['ranking','titulo','nome_canal','n_views','n_likes']]\n",
    "    \n",
    "    videos.fillna(0, inplace = True)\n",
    "    \n",
    "    videos['n_views'] = videos['n_views'].astype('int')\n",
    "    videos['n_likes']=videos['n_likes'].astype('int')\n",
    "    \n",
    "    videos['view a cada like'] = round(videos['n_views'] / videos['n_likes'] , 2)\n",
    "    \n",
    "    return videos"
   ]
  },
  {
   "cell_type": "code",
   "execution_count": 10,
   "metadata": {},
   "outputs": [],
   "source": [
    "tb = plot_table(yt)"
   ]
  },
  {
   "cell_type": "code",
   "execution_count": 35,
   "metadata": {},
   "outputs": [],
   "source": [
    "import streamlit_wordcloud as wordcloud"
   ]
  },
  {
   "cell_type": "code",
   "execution_count": 36,
   "metadata": {},
   "outputs": [
    {
     "name": "stderr",
     "output_type": "stream",
     "text": [
      "2022-04-14 09:54:09.092 \n",
      "  \u001b[33m\u001b[1mWarning:\u001b[0m to view this Streamlit app on a browser, run it with the following\n",
      "  command:\n",
      "\n",
      "    streamlit run C:\\Users\\Lucas\\anaconda3\\lib\\site-packages\\ipykernel_launcher.py [ARGUMENTS]\n"
     ]
    }
   ],
   "source": [
    "words = [\n",
    "    dict(text=\"Robinhood\", value=16000, color=\"#b5de2b\", country=\"US\", industry=\"Cryptocurrency\"),\n",
    "    dict(text=\"Personio\", value=8500, color=\"#b5de2b\", country=\"DE\", industry=\"Human Resources\"),\n",
    "    dict(text=\"Boohoo\", value=6700, color=\"#b5de2b\", country=\"UK\", industry=\"Beauty\"),\n",
    "    dict(text=\"Deliveroo\", value=13400, color=\"#b5de2b\", country=\"UK\", industry=\"Delivery\"),\n",
    "    dict(text=\"SumUp\", value=8300, color=\"#b5de2b\", country=\"UK\", industry=\"Credit Cards\"),\n",
    "    dict(text=\"CureVac\", value=12400, color=\"#b5de2b\", country=\"DE\", industry=\"BioPharma\"),\n",
    "    dict(text=\"Deezer\", value=10300, color=\"#b5de2b\", country=\"FR\", industry=\"Music Streaming\"),\n",
    "    dict(text=\"Eurazeo\", value=31, color=\"#b5de2b\", country=\"FR\", industry=\"Asset Management\"),\n",
    "    dict(text=\"Drift\", value=6000, color=\"#b5de2b\", country=\"US\", industry=\"Marketing Automation\"),\n",
    "    dict(text=\"Twitch\", value=4500, color=\"#b5de2b\", country=\"US\", industry=\"Social Media\"),\n",
    "    dict(text=\"Plaid\", value=5600, color=\"#b5de2b\", country=\"US\", industry=\"FinTech\"),\n",
    "]\n",
    "return_obj = wordcloud.visualize(words, tooltip_data_fields={\n",
    "    'text':'Company', 'value':'Mentions', 'country':'Country of Origin', 'industry':'Industry'\n",
    "}, per_word_coloring=False)"
   ]
  },
  {
   "cell_type": "code",
   "execution_count": null,
   "metadata": {},
   "outputs": [],
   "source": []
  }
 ],
 "metadata": {
  "kernelspec": {
   "display_name": "Python 3",
   "language": "python",
   "name": "python3"
  },
  "language_info": {
   "codemirror_mode": {
    "name": "ipython",
    "version": 3
   },
   "file_extension": ".py",
   "mimetype": "text/x-python",
   "name": "python",
   "nbconvert_exporter": "python",
   "pygments_lexer": "ipython3",
   "version": "3.7.6"
  }
 },
 "nbformat": 4,
 "nbformat_minor": 4
}
